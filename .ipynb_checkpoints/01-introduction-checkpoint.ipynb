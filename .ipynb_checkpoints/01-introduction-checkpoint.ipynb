{
 "cells": [
  {
   "cell_type": "markdown",
   "metadata": {},
   "source": [
    "# Introduction\n",
    "A mixed integer linear problem is an optimization problem of the form\n",
    "$$\n",
    "\\begin{align*}\\min \\quad& cx+hy\\\\\n",
    "\\text{subject to} \\quad& Ax + Gy \\leq b\\\\\n",
    "&x \\geq 0\\quad\\text{integral}\\\\\n",
    "&y \\geq 0\n",
    "\\end{align*}\n",
    "$$\n",
    "where vector $c=(c_1,\\dots, c_n)$, $h=(h_1,\\dots, h_p)$, an $m\\times n$ matrix $A=(a_{ij})$, an $m\\times p$ matrix $G=(g_{ij})$, and a column vector $b = (b_1,\\dots, b_m)^t$, is the data."
   ]
  },
  {
   "cell_type": "code",
   "execution_count": 2,
   "metadata": {},
   "outputs": [],
   "source": [
    "using JuMP, GLPKMathProgInterface"
   ]
  },
  {
   "cell_type": "code",
   "execution_count": 3,
   "metadata": {},
   "outputs": [
    {
     "data": {
      "text/latex": [
       "$$ \\begin{alignat*}{1}\\min\\quad & 0\\\\\n",
       "\\text{Subject to} \\quad\\end{alignat*}\n",
       " $$"
      ],
      "text/plain": [
       "Feasibility problem with:\n",
       " * 0 linear constraints\n",
       " * 0 variables\n",
       "Solver is GLPKInterfaceLP"
      ]
     },
     "execution_count": 3,
     "metadata": {},
     "output_type": "execute_result"
    }
   ],
   "source": [
    "m = Model(solver=GLPKSolverLP())"
   ]
  },
  {
   "cell_type": "code",
   "execution_count": null,
   "metadata": {},
   "outputs": [],
   "source": []
  }
 ],
 "metadata": {
  "kernelspec": {
   "display_name": "Julia 0.6.2",
   "language": "julia",
   "name": "julia-0.6"
  },
  "language_info": {
   "file_extension": ".jl",
   "mimetype": "application/julia",
   "name": "julia",
   "version": "0.6.2"
  }
 },
 "nbformat": 4,
 "nbformat_minor": 2
}
