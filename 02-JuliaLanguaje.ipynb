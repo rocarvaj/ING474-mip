{
 "cells": [
  {
   "cell_type": "markdown",
   "metadata": {},
   "source": [
    "# Julia como calculadora \n",
    "Credit for this tutorial goes to [Jordi Pereira](https://github.com/jordipereiragude/HerramientasComputacionalesDeAnaliticaCuantitativa)."
   ]
  },
  {
   "cell_type": "code",
   "execution_count": null,
   "metadata": {},
   "outputs": [],
   "source": [
    "# operaciones básicas\n",
    "# 1 + 1 # => 2\n",
    "# 1 - 1 # => 0\n",
    "# 5*7 # => 35\n",
    " 3/8 # => 0.375\n",
    "# 7%3 => 1\n",
    "# 2 ^ 3 # => 8\n"
   ]
  },
  {
   "cell_type": "markdown",
   "metadata": {},
   "source": [
    "Es posible usar notación LISP"
   ]
  },
  {
   "cell_type": "code",
   "execution_count": null,
   "metadata": {},
   "outputs": [],
   "source": [
    "+(3, 5)\n",
    "# (6, +(3, 5))\n",
    "# /(22, +(pi, 5))"
   ]
  },
  {
   "cell_type": "markdown",
   "metadata": {},
   "source": [
    "O matrices. Importante ver la diferencia en usar punto o no antes de una operación con matrices (o vectores)"
   ]
  },
  {
   "cell_type": "code",
   "execution_count": null,
   "metadata": {},
   "outputs": [],
   "source": [
    "#[2 3; 5 4]+[1 1; 4 2]\n",
    "# [2 3; 5 4]*[1 1; 4 2]\n",
    "[2 3; 5 4].*[1 1; 4 2]\n",
    "#[2 3; 5 4]^(-1)\n",
    "# inv([2 3; 5 4])"
   ]
  },
  {
   "cell_type": "markdown",
   "metadata": {},
   "source": [
    "Y produce errores en caso de imposibilidad"
   ]
  },
  {
   "cell_type": "code",
   "execution_count": null,
   "metadata": {},
   "outputs": [],
   "source": [
    "#inv([2 4 6; 1 3 4])\n",
    "inv([2 4 6; 4 8 12; 1 2 3])"
   ]
  },
  {
   "cell_type": "code",
   "execution_count": null,
   "metadata": {},
   "outputs": [],
   "source": [
    "rank([2 4 6; 4 8 12; 1 2 3])"
   ]
  },
  {
   "cell_type": "markdown",
   "metadata": {},
   "source": [
    "# Matrices\n",
    "\n",
    "Debido a las particularidades de Julia y del área, es práctico introducir matrices y vectores pronto."
   ]
  },
  {
   "cell_type": "code",
   "execution_count": null,
   "metadata": {},
   "outputs": [],
   "source": [
    "a=[112 14 16] #un vector de 3 columnas y 1 fila"
   ]
  },
  {
   "cell_type": "code",
   "execution_count": null,
   "metadata": {},
   "outputs": [],
   "source": [
    "b=[112; 14; 16] # un vector de 1 columna y 3 filas (la forma estándar de anotar un vector)"
   ]
  },
  {
   "cell_type": "code",
   "execution_count": null,
   "metadata": {},
   "outputs": [],
   "source": [
    "# a*b\n",
    "# a+transpose(b)\n",
    "# transpose(a)+b\n",
    "C=[4 2 3; 7 1 6; 6 2 4]\n",
    "#a*C\n",
    "#C*b"
   ]
  },
  {
   "cell_type": "markdown",
   "metadata": {},
   "source": [
    "Es importante ver que el sistema nos informa de tipo de \"array\" utilizado, en el caso de C resulta que es una matriz de números enteros (de longitud 64 bits) con 2 dimensiones. También podemos consultarlo (útil por motivos que se explicarán luego)"
   ]
  },
  {
   "cell_type": "code",
   "execution_count": null,
   "metadata": {},
   "outputs": [],
   "source": [
    "typeof(b)"
   ]
  },
  {
   "cell_type": "markdown",
   "metadata": {},
   "source": [
    "Resolver un sistema de ecuaciones:"
   ]
  },
  {
   "cell_type": "code",
   "execution_count": null,
   "metadata": {},
   "outputs": [],
   "source": [
    "C^(-1)*b\n",
    "#C\\b"
   ]
  },
  {
   "cell_type": "markdown",
   "metadata": {},
   "source": [
    "regresión lineal $\\hat{\\beta} = (X^T X)^{-1} X^T y$"
   ]
  },
  {
   "cell_type": "code",
   "execution_count": null,
   "metadata": {},
   "outputs": [],
   "source": [
    "X=[2 4; 1 3; 9 1]\n",
    "y=b\n",
    "inv(X'*X)*X'*y"
   ]
  },
  {
   "cell_type": "markdown",
   "metadata": {},
   "source": [
    "Hay varias maneras de construir una matriz paso a paso. Por ejemplo:"
   ]
  },
  {
   "cell_type": "code",
   "execution_count": null,
   "metadata": {},
   "outputs": [],
   "source": [
    "vector0 = [1, 2, 3]\n",
    "println(\"vector0: \",vector0)\n",
    "vector = Int64[]\n",
    "println(\"vector: \",vector)\n",
    "vectorDefinido = Array{Int64}(2)\n",
    "println(\"vectorDefinido: \",vectorDefinido)\n",
    "otroVector = Int64[2, 2]\n",
    "println(\"otro Vector: \",otroVector)\n",
    "vectorColumna=Int64[2 2]\n",
    "println(\"vector Columna: \",vectorColumna)\n",
    "matriz = Array{Int64}(10,10) #matriz de 2x2\n",
    "println(\"matriz de 10x10: \",matriz)"
   ]
  },
  {
   "cell_type": "markdown",
   "metadata": {},
   "source": [
    "Varias operaciones básicas:"
   ]
  },
  {
   "cell_type": "code",
   "execution_count": null,
   "metadata": {},
   "outputs": [],
   "source": [
    "println(\"typeof: \",typeof(vectorColumna))\n",
    "vector=vector0\n",
    "println(\"vectores iniciales: \",vector,\" \",vector0)\n",
    "push!(vector,10)\n",
    "println(\"tras push: \",vector[1],\" \",vector[end],\"\\ty el otro: \",vector0[1],\" \",vector0[end]) #sorpresa!\n",
    "pop!(vector)\n",
    "println(\"tras pop: \",vector[1],\" \",vector[end],\"\\ty el otro: \",vector0[1],\" \",vector0[end])"
   ]
  },
  {
   "cell_type": "code",
   "execution_count": null,
   "metadata": {},
   "outputs": [],
   "source": [
    "vector=copy(vector0)\n",
    "println(\"tras copy: \",vector,\" \",vector0)\n",
    "push!(vector,10)\n",
    "println(\"tras push: \",vector[1],\" \",vector[end],\"\\ty el otro: \",vector0[1],\" \",vector0[end]) #sorpresa!\n",
    "pop!(vector)\n",
    "println(\"tras pop: \",vector[1],\" \",vector[end],\"\\ty el otro: \",vector0[1],\" \",vector0[end])\n",
    "append!(vector,vector0)\n",
    "println(\"vector: \",vector)"
   ]
  },
  {
   "cell_type": "markdown",
   "metadata": {},
   "source": [
    "Se puede recortar algunas partes de un vector o matriz fácilmente:"
   ]
  },
  {
   "cell_type": "code",
   "execution_count": null,
   "metadata": {},
   "outputs": [],
   "source": [
    "mini=vector[2:4]\n",
    "println(\"mini: \",mini)\n",
    "mini[1]=10\n",
    "println(\"mini: \",mini,\" vector: \",vector) #curioso ¿no?\n",
    "println(\"numero de entradas: \",length(mini))"
   ]
  },
  {
   "cell_type": "code",
   "execution_count": null,
   "metadata": {},
   "outputs": [],
   "source": [
    "println(\"matriz anteriormente definida:\" , matriz)\n",
    "matriz[1:2,2:3]"
   ]
  },
  {
   "cell_type": "markdown",
   "metadata": {},
   "source": [
    "## Variables\n",
    "\n",
    "Algunas cosas anteriores no se aplican a variables simples (motivo, uso de memoria)"
   ]
  },
  {
   "cell_type": "code",
   "execution_count": null,
   "metadata": {},
   "outputs": [],
   "source": [
    "i=3\n",
    "j=i\n",
    "println(\"i: \",i,\" j: \",j)\n",
    "j=j+1\n",
    "println(\"i: \",i,\" j: \",j)"
   ]
  },
  {
   "cell_type": "markdown",
   "metadata": {},
   "source": [
    "Se pueden utilizar símbolos especiales para clarificar el significado de variables (por ejemplo escribe \"\\pi\" y tabulador)"
   ]
  },
  {
   "cell_type": "code",
   "execution_count": null,
   "metadata": {},
   "outputs": [],
   "source": [
    "π=3.141592\n",
    "r=3\n",
    "perímetro=2*π*r\n",
    "println(\"perímetro: \",perímetro)"
   ]
  },
  {
   "cell_type": "markdown",
   "metadata": {},
   "source": [
    "# Estructuras de datos\n",
    "\n",
    "Finalmente, falta analizar algunas formas de matener información que resultarán convenientes (Nota: Restaría ver <b>dataframes</b>)\n",
    "\n",
    "## Conjuntos\n",
    "\n",
    "Podemos tener conjuntos de enteros o conjuntos generales (https://docs.julialang.org/en/release-0.4/stdlib/collections/):"
   ]
  },
  {
   "cell_type": "code",
   "execution_count": null,
   "metadata": {},
   "outputs": [],
   "source": [
    "conjunto =IntSet()\n",
    "push!(conjunto,5)\n",
    "push!(conjunto,1)\n",
    "push!(conjunto,3)\n",
    "for i in conjunto\n",
    "    println(\"en conjunto: \",i)\n",
    "end\n",
    "push!(conjunto,1)\n",
    "println(\"Set: \",conjunto)\n",
    "otroConjunto = IntSet([3, 4, 5, 6])\n",
    "println(\"Intersección: \",intersect(conjunto,otroConjunto))\n",
    "union!(conjunto, otroConjunto)\n",
    "println(\"Unión: \",conjunto)\n",
    "pop!(conjunto,3)\n",
    "println(\"Set: \",conjunto)\n",
    "pop!(conjunto)\n",
    "println(\"Set: \",conjunto)\n"
   ]
  },
  {
   "cell_type": "markdown",
   "metadata": {},
   "source": [
    "## Diccionarios\n",
    "\n",
    "Equivalente al <i>map</i> en C++ o a un <i>hash table</i>\n",
    "\n",
    "Sirve para almacenar estructuras con un key y un valor "
   ]
  },
  {
   "cell_type": "code",
   "execution_count": null,
   "metadata": {},
   "outputs": [],
   "source": [
    "Diccionario = Dict{String,Int64}()\n",
    "Diccionario[\"A\"]=1\n",
    "Diccionario[\"B\"]=2\n",
    "println(\"Diccionario:\",Diccionario)\n",
    "\n",
    "# Comprobaciones varias\n",
    "println(\"comprobación 1: \",in((\"A\" => 1), Diccionario)) # => true\n",
    "println(\"comprobación 2: \",in((\"B\" => 3), Diccionario)) # => false\n",
    "println(\"comprobación 3: \",haskey(Diccionario, \"A\")) # => true\n",
    "println(\"comprobación 4: \",haskey(Diccionario, \"C\")) # => false\n",
    "# Miremos si hay o no un key\n",
    "\n",
    "#println(\"comprobación 5:\",Diccionario[\"C\"]) # => ERROR: key not found: four in getindex at dict.jl:489\n",
    "try\n",
    "    println(\"comprobación 5:\",Diccionario[\"C\"]) # => ERROR: key not found: four in getindex at dict.jl:489\n",
    "catch e\n",
    "    println(\"comprobación 5:\",e)\n",
    "end\n",
    "# Miremos si hay o no un key\n",
    "try\n",
    "    println(\"comprobación 6:\",Diccionario[\"B\"]) # => OK\n",
    "catch e\n",
    "    println(\"comprobación 6:\",e)\n",
    "end"
   ]
  },
  {
   "cell_type": "markdown",
   "metadata": {},
   "source": [
    "## Bitarray\n",
    "\n",
    "Un vector para bits (alternativa Array{Bool}(4)"
   ]
  },
  {
   "cell_type": "code",
   "execution_count": null,
   "metadata": {},
   "outputs": [],
   "source": [
    "pattern = BitArray(4)\n",
    "pattern[1]=true\n",
    "pattern[2]=false\n",
    "pattern[3]=false\n",
    "pattern[4]=true\n",
    "println(\"bitarray: \",pattern)\n",
    "patternAlternativo = Array{Bool}(4)\n",
    "patternAlternativo[1]=true\n",
    "patternAlternativo[2]=false\n",
    "patternAlternativo[3]=false\n",
    "patternAlternativo[4]=true\n",
    "println(\"Array: \",patternAlternativo)"
   ]
  },
  {
   "cell_type": "code",
   "execution_count": null,
   "metadata": {},
   "outputs": [],
   "source": [
    "## Tipos propios\n",
    "\n",
    "También podemos definir nuestros tipos"
   ]
  },
  {
   "cell_type": "code",
   "execution_count": null,
   "metadata": {
    "collapsed": true
   },
   "outputs": [],
   "source": [
    "type tipoEjemplo\n",
    "    a::Array{Float64}\n",
    "    b::Float64\n",
    "    c::Int32\n",
    "end"
   ]
  },
  {
   "cell_type": "code",
   "execution_count": null,
   "metadata": {},
   "outputs": [],
   "source": [
    "tipoPropio=tipoEjemplo([1.2, 2.1, 3.9],1.1,24)\n",
    "#variable.a=[1, 2, 3]\n",
    "#variable.b=1.1\n",
    "#variable.c=24\n",
    "println(\"Variable: \",tipoPropio)\n",
    "tipoPropioBis = tipoEjemplo([],0.0,0) #llama a un constructor\n",
    "tipoPropioBis.a=[2,3,4]\n",
    "tipoPropioBis.b=2.2\n",
    "tipoPropioBis.c=46\n",
    "println(\"Variable: \",tipoPropioBis)\n",
    "tipoPropioBisBis = tipoPropio\n",
    "push!(tipoPropioBisBis.a,12.0)\n",
    "println(\"Variable Bis Bis: \",tipoPropioBisBis)\n",
    "println(\"Otro ejemplo de lo visto con anterioridad: \",tipoPropio)\n",
    "tipoPropioBisBis=deepcopy(tipoPropio)\n",
    "push!(tipoPropioBisBis.a,12.0)\n",
    "println(\"Version 2 Bis Bis: \",tipoPropioBisBis)\n",
    "println(\"Version 2 Propio: \",tipoPropio)"
   ]
  },
  {
   "cell_type": "markdown",
   "metadata": {},
   "source": [
    "# Gráficos\n",
    "\n",
    "Es posible dibujar utilizando PyPlot/matplotlib (https://matplotlib.org/api/pyplot_api.html, ejemplos en: http://nbviewer.jupyter.org/github/gizmaa/Julia_Examples/tree/master/)"
   ]
  },
  {
   "cell_type": "code",
   "execution_count": null,
   "metadata": {},
   "outputs": [],
   "source": [
    "#Pkg.add(\"PyPlot\")\n",
    "using PyPlot\n",
    "ioff() # Interactive plotting OFF, necessary for inline plotting in IJulia\n",
    "\n",
    "x = randn(10000) # Values\n",
    "nbins = 10; # Number of bins\n",
    "\n",
    "#fig = figure(\"pyplot_histogram\",figsize=(5,5)) # Not strictly required\n",
    "ax = axes() # Not strictly required\n",
    "h = plt[:hist](x,nbins) # Histogram\n",
    "title(\"Normal\")"
   ]
  },
  {
   "cell_type": "markdown",
   "metadata": {},
   "source": [
    "Alternativamente podemos utilizar otras librerías gráficas (ver https://juliaplots.github.io/ )"
   ]
  },
  {
   "cell_type": "code",
   "execution_count": null,
   "metadata": {},
   "outputs": [],
   "source": [
    "#Pkg.add(\"Plots\")\n",
    "using Plots\n",
    "Plots.plot(x, color=\"blue\")"
   ]
  },
  {
   "cell_type": "markdown",
   "metadata": {},
   "source": [
    "# Control de flujo de un programa\n",
    "\n",
    "Tenemos comandos condicionales (<b>if</b>) y repetición (<b>for</b>, <b>while</b>)\""
   ]
  },
  {
   "cell_type": "code",
   "execution_count": null,
   "metadata": {},
   "outputs": [],
   "source": [
    "variable = 9\n",
    "if variable < 6\n",
    "    println(\"menor que seis\")\n",
    "else\n",
    "    println(\"igual o mayor a seis\")\n",
    "end\n",
    "\n",
    "if variable > 6 && variable <= 12\n",
    "    println(\"(6,12]\")\n",
    "elseif variable<=6\n",
    "    println(\"(-∞,6]\")\n",
    "else\n",
    "    println(\"(12,∞)\")\n",
    "end\n",
    "\n",
    "while variable > 0\n",
    "    print(variable,\" \")\n",
    "    variable = variable -1\n",
    "end\n",
    "println(\" fin\")\n",
    "for i in 1:10\n",
    "    print(i,\"\\t\")\n",
    "end\n",
    "println(\"end\")\n",
    "for i in 1:3:101\n",
    "    print(i,\"\\t\")\n",
    "end\n",
    "println(\"end\")"
   ]
  },
  {
   "cell_type": "code",
   "execution_count": null,
   "metadata": {},
   "outputs": [],
   "source": [
    "words = [\"Barcelona\", \"Mataró\"]\n",
    "for word in words\n",
    "    println(\"Hola $word\")\n",
    "end\n",
    "numeros=[7, 2, 3]\n",
    "for num in numeros\n",
    "    println(num)\n",
    "end\n",
    "print(\"======================\\n\")\n",
    "#no es necesario como ésta\n",
    "for i in 1:size(numeros,1)\n",
    "    println(numeros[i])\n",
    "end"
   ]
  },
  {
   "cell_type": "markdown",
   "metadata": {},
   "source": [
    "# Funciones\n",
    "\n",
    "Antes de dar por acabado un repaso de los conceptos básicos del lenguaje nos faltaría ver el uso de funciones para mejorar la estructura y la reutilización de código"
   ]
  },
  {
   "cell_type": "code",
   "execution_count": null,
   "metadata": {},
   "outputs": [],
   "source": [
    "function miFactorial(n::Int64)\n",
    "    retorno = 1\n",
    "    for i = 1:n\n",
    "        retorno = retorno * i\n",
    "    end\n",
    "    retorno\n",
    "end\n",
    "\n",
    "miFactorial(5)"
   ]
  },
  {
   "cell_type": "code",
   "execution_count": null,
   "metadata": {},
   "outputs": [],
   "source": [
    "#function factorialRecursivo(n)\n",
    "function factorialRecursivo(n::Int64)\n",
    "    if n==1\n",
    "        return 1\n",
    "    else\n",
    "        return n*factorialRecursivo(n-1)\n",
    "    end\n",
    "end\n",
    "\n",
    "#factorialRecursivo(3)\n",
    "factorialRecursivo(3.2)"
   ]
  },
  {
   "cell_type": "markdown",
   "metadata": {},
   "source": [
    "En ocasiones conviene llamar a una función repetidas veces para todos los términos de un vector. La principal ventaja de estas funciones es que son más fáciles de optimizar para el compilador interno de Julia. \n",
    "\n",
    "En este caso nos servirá con usar la notación de punto (ya vista con anterioridad)."
   ]
  },
  {
   "cell_type": "code",
   "execution_count": null,
   "metadata": {},
   "outputs": [],
   "source": [
    "function testPi(randomSeed::Int64,repeticiones=1000000)\n",
    "    count=0\n",
    "    srand(randomSeed)\n",
    "    for i in 1:repeticiones\n",
    "        x=rand()\n",
    "        y=rand()\n",
    "        if x^2+y^2 <= 1.0 \n",
    "            count+= 1\n",
    "        end\n",
    "    end\n",
    "    4*count / repeticiones\n",
    "end"
   ]
  },
  {
   "cell_type": "code",
   "execution_count": null,
   "metadata": {},
   "outputs": [],
   "source": [
    "testPi(1,100000000)"
   ]
  },
  {
   "cell_type": "code",
   "execution_count": null,
   "metadata": {},
   "outputs": [],
   "source": [
    "miVectorRandomSeeds = collect(1:100)\n",
    "#testPi.(miVectorRandomSeeds)\n",
    "@time(testPi.(miVectorRandomSeeds))\n",
    "\n",
    "function repetir(count)\n",
    "    for i in 1:count\n",
    "       testPi(i)\n",
    "    end\n",
    "end\n",
    "\n",
    "@time(repetir(100))"
   ]
  },
  {
   "cell_type": "markdown",
   "metadata": {},
   "source": [
    "# Lectura y escritura de archivos\n",
    "\n",
    "Finalmente, es conveniente comunicarse con el mundo, normalmente a través de ficheros (también mediante línea de comando pero eso queda fuera del alcance de una hoja de Jupyter)\n",
    "\n",
    "Empezaremos por escribir un archivo de texto (usaremos una de las múltiples técnicas disponibles)"
   ]
  },
  {
   "cell_type": "code",
   "execution_count": null,
   "metadata": {},
   "outputs": [],
   "source": [
    "f = open(\"archivo.txt\",\"w\")\n",
    "for i in 1:100\n",
    "    write(f, \"$i\\n\")\n",
    "end\n",
    "close(f)\n",
    "\n",
    "ff = open(\"archivo.txt\")\n",
    "for ln in eachline(ff)\n",
    "       println(\"$(length(ln)) -> $ln\")\n",
    "end"
   ]
  },
  {
   "cell_type": "markdown",
   "metadata": {},
   "source": [
    "# Notas finales\n",
    "\n",
    "* Julia no tiene orientación a objetos\n",
    "* Existen punteros pero su uso se ciñe normalmente a comunicarse con otros lenguajes (como C). Adicionalmente el fenómeno comentado anteriormente cumple con algunos de los usos de un puntero. \n",
    "* Nos faltan cubrir varios temas (conviene repasar algunos puntos). "
   ]
  },
  {
   "cell_type": "markdown",
   "metadata": {},
   "source": [
    "## Basado en:\n",
    "* Lectures in quatitative economics (https://lectures.quantecon.org/jl/)\n",
    "* Julia Programming for Operations Research\n",
    "* Learn X in Y minutes (https://learnxinyminutes.com/docs/julia/)\n",
    "* The docs (https://docs.julialang.org/en/stable/)\n"
   ]
  },
  {
   "cell_type": "markdown",
   "metadata": {},
   "source": [
    "# Ejercicio propuesto\n",
    "\n",
    "Escriba en Julia una versión recursiva del código de enumeración para el problema de las n-reinas (https://en.wikipedia.org/wiki/Eight_queens_puzzle) que provea de <b>todas</b> las combinaciones factibles."
   ]
  },
  {
   "cell_type": "code",
   "execution_count": null,
   "metadata": {
    "collapsed": true
   },
   "outputs": [],
   "source": []
  }
 ],
 "metadata": {
  "kernelspec": {
   "display_name": "Julia 0.6.2",
   "language": "julia",
   "name": "julia-0.6"
  },
  "language_info": {
   "file_extension": ".jl",
   "mimetype": "application/julia",
   "name": "julia",
   "version": "0.6.2"
  }
 },
 "nbformat": 4,
 "nbformat_minor": 2
}
